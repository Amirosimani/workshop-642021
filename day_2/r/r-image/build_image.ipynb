{
 "cells": [
  {
   "cell_type": "markdown",
   "metadata": {},
   "source": [
    "SageMaker Studio notebooks provide a set of built-in images for popular data science and ML frameworks and compute options to run notebooks. The built-in SageMaker images contain the Amazon SageMaker Python SDK and the latest version of the backend runtime process, also called kernel. With the custom images feature, you can register custom built images and kernels, and make them available to all users sharing a SageMaker Studio domain. You can start by cloning and extending one of the example Docker files provided by SageMaker, or build your own images from scratch.\n",
    "\n",
    "\n",
    "You can add a custom **R** image to SageMaker Studio so you can build and train your R models with SageMaker. After attaching the custom R image, you can select the image in Studio and use R to access the SDKs using the **RStudio reticulate** package.\n",
    "\n",
    "You can create images and image versions and attach image versions to your domain using the SageMaker Studio Control Panel, the AWS SDK for Python (Boto3), and the AWS Command Line Interface (AWS CLI)."
   ]
  },
  {
   "cell_type": "code",
   "execution_count": 1,
   "metadata": {},
   "outputs": [],
   "source": [
    "import sagemaker\n",
    "\n",
    "ROLE_ARN = sagemaker.get_execution_role()"
   ]
  },
  {
   "cell_type": "code",
   "execution_count": 2,
   "metadata": {},
   "outputs": [
    {
     "data": {
      "text/plain": [
       "'arn:aws:iam::367158743199:role/MySagemakerRole'"
      ]
     },
     "execution_count": 2,
     "metadata": {},
     "output_type": "execute_result"
    }
   ],
   "source": [
    "ROLE_ARN"
   ]
  },
  {
   "cell_type": "code",
   "execution_count": 3,
   "metadata": {},
   "outputs": [
    {
     "name": "stdout",
     "output_type": "stream",
     "text": [
      "    \"RoleArn\": \"arn:aws:iam::367158743199:role/MySagemakerRole\",\n"
     ]
    }
   ],
   "source": [
    "!aws sagemaker describe-notebook-instance --notebook-instance-name featurestore-streaming-agg | grep 'RoleArn:*'"
   ]
  },
  {
   "cell_type": "code",
   "execution_count": 5,
   "metadata": {},
   "outputs": [
    {
     "name": "stdout",
     "output_type": "stream",
     "text": [
      "{\n",
      "    \"AppImageConfigArn\": \"arn:aws:sagemaker:us-east-1:367158743199:app-image-config/custom-r-image-config\"\n",
      "}\n"
     ]
    }
   ],
   "source": [
    "%%sh\n",
    "\n",
    "ACCOUNT_ID=$(aws sts get-caller-identity --query Account --output text)\n",
    "# Get the region defined in the current configuration (default to us-west-2 if none defined)\n",
    "REGION=$(aws configure get region)\n",
    "REGION=${REGION:-us-east-1}\n",
    "\n",
    "\n",
    "# # create a repository in ECR, and then login to ECR repository\n",
    "# aws --region ${REGION} ecr create-repository --repository-name smstudio-custom\n",
    "# aws ecr --region ${REGION} get-login-password | docker login --username AWS \\\n",
    "#     --password-stdin ${ACCOUNT_ID}.dkr.ecr.${REGION}.amazonaws.com/smstudio-custom\n",
    "\n",
    "# Build the docker image and push to Amazon ECR (modify image tags and name as required)\n",
    "# $(aws ecr get-login --region ${REGION} --no-include-email)\n",
    "\n",
    "# docker build . -t smstudio-r -t ${ACCOUNT_ID}.dkr.ecr.${REGION}.amazonaws.com/smstudio-custom:r\n",
    "    \n",
    "# docker push ${ACCOUNT_ID}.dkr.ecr.${REGION}.amazonaws.com/smstudio-custom:r\n",
    "    \n",
    "# Using with SageMaker Studio\n",
    "## Create SageMaker Image with the image in ECR (modify image name as required)\n",
    "# aws sagemaker create-image \\\n",
    "#     --region ${REGION} \\\n",
    "#     --image-name custom-r \\\n",
    "#     --role-arn \"arn:aws:iam::367158743199:role/MySagemakerRol\"\n",
    "\n",
    "\n",
    "# aws sagemaker create-image-version \\\n",
    "#     --region ${REGION} \\\n",
    "#     --image-name custom-r \\\n",
    "#     --base-image ${ACCOUNT_ID}.dkr.ecr.${REGION}.amazonaws.com/smstudio-custom:r\n",
    "\n",
    "## Create AppImageConfig for this image (modify AppImageConfigName and \n",
    "## KernelSpecs in app-image-config-input.json as needed)\n",
    "## note that 'file://' is required in the file path\n",
    "aws sagemaker create-app-image-config \\\n",
    "    --region ${REGION} \\\n",
    "    --cli-input-json file://app-image-config-input.json"
   ]
  },
  {
   "cell_type": "code",
   "execution_count": null,
   "metadata": {},
   "outputs": [],
   "source": []
  }
 ],
 "metadata": {
  "instance_type": "ml.t3.medium",
  "kernelspec": {
   "display_name": "conda_python3",
   "language": "python",
   "name": "conda_python3"
  },
  "language_info": {
   "codemirror_mode": {
    "name": "ipython",
    "version": 3
   },
   "file_extension": ".py",
   "mimetype": "text/x-python",
   "name": "python",
   "nbconvert_exporter": "python",
   "pygments_lexer": "ipython3",
   "version": "3.6.10"
  }
 },
 "nbformat": 4,
 "nbformat_minor": 4
}
