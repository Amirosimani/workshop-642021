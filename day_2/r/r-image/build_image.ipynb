{
 "cells": [
  {
   "cell_type": "markdown",
   "metadata": {},
   "source": [
    "SageMaker Studio notebooks provide a set of built-in images for popular data science and ML frameworks and compute options to run notebooks. The built-in SageMaker images contain the Amazon SageMaker Python SDK and the latest version of the backend runtime process, also called kernel. With the custom images feature, you can register custom built images and kernels, and make them available to all users sharing a SageMaker Studio domain. You can start by cloning and extending one of the example Docker files provided by SageMaker, or build your own images from scratch.\n",
    "\n",
    "\n",
    "You can add a custom **R** image to SageMaker Studio so you can build and train your R models with SageMaker. After attaching the custom R image, you can select the image in Studio and use R to access the SDKs using the **RStudio reticulate** package.\n",
    "\n",
    "You can create images and image versions and attach image versions to your domain using the SageMaker Studio Control Panel, the AWS SDK for Python (Boto3), and the AWS Command Line Interface (AWS CLI)."
   ]
  },
  {
   "cell_type": "code",
   "execution_count": null,
   "metadata": {},
   "outputs": [],
   "source": [
    "import sagemaker"
   ]
  },
  {
   "cell_type": "code",
   "execution_count": null,
   "metadata": {},
   "outputs": [],
   "source": [
    "ROLE_ARN = sagemaker.get_execution_role()\n",
    "ROLE_ARN"
   ]
  },
  {
   "cell_type": "code",
   "execution_count": null,
   "metadata": {},
   "outputs": [],
   "source": [
    "# !aws sagemaker describe-notebook-instance --notebook-instance-name "
   ]
  },
  {
   "cell_type": "code",
   "execution_count": null,
   "metadata": {},
   "outputs": [],
   "source": [
    "!pwd"
   ]
  },
  {
   "cell_type": "code",
   "execution_count": null,
   "metadata": {},
   "outputs": [],
   "source": [
    "%%sh\n",
    "\n",
    "ACCOUNT_ID=$(aws sts get-caller-identity --query Account --output text)\n",
    "# Get the region defined in the current configuration (default to us-west-2 if none defined)\n",
    "REGION=$(aws configure list | grep region | awk '{print $2}')\n",
    "algorithm_name=smstudio-custom\n",
    "fullname=${ACCOUNT_ID}.dkr.ecr.${REGION}.amazonaws.com/${algorithm_name}:latest\n",
    "\n",
    "\n",
    "\n",
    "\n",
    "# If the repository doesn't exist in ECR, create it.\n",
    "aws ecr describe-repositories --repository-names \"${algorithm_name}\" > /dev/null 2>&1\n",
    "\n",
    "if [ $? -ne 0 ]\n",
    "then\n",
    "    aws ecr create-repository --repository-name \"${algorithm_name}\" > /dev/null\n",
    "fi\n",
    "\n",
    "# login to ECR repository\n",
    "aws ecr --region ${REGION} get-login-password | docker login --username AWS \\\n",
    "    --password-stdin fullname\n",
    "\n",
    "# Build the docker image and push to Amazon ECR (modify image tags and name as required)\n",
    "$(aws ecr get-login --region ${REGION} --no-include-email)\n",
    "\n",
    "\n",
    "# with the full name.\n",
    "docker build  -t ${algorithm_name} .\n",
    "docker tag ${algorithm_name} ${fullname}\n",
    "\n",
    "docker push ${fullname}\n",
    "\n",
    "\n",
    "# Using with SageMaker Studio\n",
    "## Create SageMaker Image with the image in ECR (modify image name as required)\n",
    "ROLE_ARN=\"arn:aws:iam::367158743199:role/MySagemakerRole\"\n",
    "echo ${ROLE_ARN}\n",
    "\n",
    "aws sagemaker create-image \\\n",
    "    --region ${REGION} \\\n",
    "    --image-name r-image \\\n",
    "    --role-arn ${ROLE_ARN}\n",
    "          \n",
    "    \n",
    "aws sagemaker create-image-version \\\n",
    "    --image-name r-image \\\n",
    "    --base-image $fullname\n",
    "\n",
    "## Create AppImageConfig for this image (modify AppImageConfigName and \n",
    "## KernelSpecs in app-image-config-input.json as needed)\n",
    "## note that 'file://' is required in the file path\n",
    "aws sagemaker create-app-image-config \\\n",
    "    --region ${REGION} \\\n",
    "    --cli-input-json file://app-image-config-input.json\n",
    "    "
   ]
  },
  {
   "cell_type": "code",
   "execution_count": null,
   "metadata": {},
   "outputs": [],
   "source": []
  }
 ],
 "metadata": {
  "instance_type": "ml.t3.medium",
  "kernelspec": {
   "display_name": "conda_python3",
   "language": "python",
   "name": "conda_python3"
  },
  "language_info": {
   "codemirror_mode": {
    "name": "ipython",
    "version": 3
   },
   "file_extension": ".py",
   "mimetype": "text/x-python",
   "name": "python",
   "nbconvert_exporter": "python",
   "pygments_lexer": "ipython3",
   "version": "3.6.10"
  }
 },
 "nbformat": 4,
 "nbformat_minor": 4
}
