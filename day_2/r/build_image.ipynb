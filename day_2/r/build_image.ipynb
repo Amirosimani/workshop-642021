{
 "cells": [
  {
   "cell_type": "markdown",
   "metadata": {},
   "source": [
    "SageMaker Studio notebooks provide a set of built-in images for popular data science and ML frameworks and compute options to run notebooks. The built-in SageMaker images contain the Amazon SageMaker Python SDK and the latest version of the backend runtime process, also called kernel. With the custom images feature, you can register custom built images and kernels, and make them available to all users sharing a SageMaker Studio domain. You can start by cloning and extending one of the example Docker files provided by SageMaker, or build your own images from scratch.\n",
    "\n",
    "\n",
    "You can add a custom **R** image to SageMaker Studio so you can build and train your R models with SageMaker. After attaching the custom R image, you can select the image in Studio and use R to access the SDKs using the **RStudio reticulate** package.\n",
    "\n",
    "You can create images and image versions and attach image versions to your domain using the SageMaker Studio Control Panel, the AWS SDK for Python (Boto3), and the AWS Command Line Interface (AWS CLI)."
   ]
  },
  {
   "cell_type": "code",
   "execution_count": 2,
   "metadata": {},
   "outputs": [],
   "source": [
    "import sagemaker"
   ]
  },
  {
   "cell_type": "code",
   "execution_count": 3,
   "metadata": {},
   "outputs": [
    {
     "name": "stderr",
     "output_type": "stream",
     "text": [
      "Couldn't call 'get_role' to get Role ARN from role name AmazonSageMaker-ExecutionRole-20210411T125966 to get Role path.\n",
      "Assuming role was created in SageMaker AWS console, as the name contains `AmazonSageMaker-ExecutionRole`. Defaulting to Role ARN with service-role in path. If this Role ARN is incorrect, please add IAM read permissions to your role or supply the Role Arn directly.\n"
     ]
    },
    {
     "data": {
      "text/plain": [
       "'arn:aws:iam::367158743199:role/service-role/AmazonSageMaker-ExecutionRole-20210411T125966'"
      ]
     },
     "execution_count": 3,
     "metadata": {},
     "output_type": "execute_result"
    }
   ],
   "source": [
    "ROLE_ARN = sagemaker.get_execution_role()\n",
    "ROLE_ARN"
   ]
  },
  {
   "cell_type": "code",
   "execution_count": 17,
   "metadata": {},
   "outputs": [],
   "source": [
    "# !aws sagemaker describe-notebook-instance --notebook-instance-name "
   ]
  },
  {
   "cell_type": "code",
   "execution_count": 12,
   "metadata": {},
   "outputs": [
    {
     "name": "stdout",
     "output_type": "stream",
     "text": [
      "us-east-2\n"
     ]
    }
   ],
   "source": [
    "!aws configure list | grep region | awk '{print $2}'"
   ]
  },
  {
   "cell_type": "code",
   "execution_count": 23,
   "metadata": {},
   "outputs": [
    {
     "name": "stderr",
     "output_type": "stream",
     "text": [
      "\n",
      "An error occurred (RepositoryAlreadyExistsException) when calling the CreateRepository operation: The repository with name 'smstudio-custom' already exists in the registry with id '367158743199'\n",
      "sh: 9: docker: not found\n",
      "Exception ignored in: <_io.TextIOWrapper name='<stdout>' mode='w' encoding='UTF-8'>\n",
      "BrokenPipeError: [Errno 32] Broken pipe\n",
      "sh: 13: docker: not found\n"
     ]
    },
    {
     "ename": "CalledProcessError",
     "evalue": "Command 'b'\\nACCOUNT_ID=$(aws sts get-caller-identity --query Account --output text)\\n# Get the region defined in the current configuration (default to us-west-2 if none defined)\\nREGION=$(aws configure list | grep region | awk \\'{print $2}\\')\\n\\n\\n# create a repository in ECR, and then login to ECR repository\\naws --region ${REGION} ecr create-repository --repository-name smstudio-custom\\naws ecr --region ${REGION} get-login-password | docker login --username AWS \\\\\\n    --password-stdin ${ACCOUNT_ID}.dkr.ecr.${REGION}.amazonaws.com/smstudio-custom\\n\\n# Build the docker image and push to Amazon ECR (modify image tags and name as required)\\n$(aws ecr get-login --region ${REGION} --no-include-email)\\n\\n# docker build . -t smstudio-r -t ${ACCOUNT_ID}.dkr.ecr.${REGION}.amazonaws.com/smstudio-custom:r \\n# docker push ${ACCOUNT_ID}.dkr.ecr.${REGION}.amazonaws.com/smstudio-custom:r\\n    \\n# Using with SageMaker Studio\\n## Create SageMaker Image with the image in ECR (modify image name as required)\\n# aws sagemaker create-image \\\\\\n#     --region ${REGION} \\\\\\n#     --image-name custom-r \\\\\\n#     --role-arn \"arn:aws:iam::367158743199:role/MySagemakerRol\"\\n\\n\\n# aws sagemaker create-image-version \\\\\\n#     --region ${REGION} \\\\\\n#     --image-name custom-r \\\\\\n#     --base-image ${ACCOUNT_ID}.dkr.ecr.${REGION}.amazonaws.com/smstudio-custom:r\\n\\n## Create AppImageConfig for this image (modify AppImageConfigName and \\n## KernelSpecs in app-image-config-input.json as needed)\\n## note that \\'file://\\' is required in the file path\\n# aws sagemaker create-app-image-config \\\\\\n#     --region ${REGION} \\\\\\n#     --cli-input-json file://app-image-config-input.json\\n'' returned non-zero exit status 127.",
     "output_type": "error",
     "traceback": [
      "\u001b[0;31m---------------------------------------------------------------------------\u001b[0m",
      "\u001b[0;31mCalledProcessError\u001b[0m                        Traceback (most recent call last)",
      "\u001b[0;32m<ipython-input-23-9d83d22b2085>\u001b[0m in \u001b[0;36m<module>\u001b[0;34m\u001b[0m\n\u001b[0;32m----> 1\u001b[0;31m \u001b[0mget_ipython\u001b[0m\u001b[0;34m(\u001b[0m\u001b[0;34m)\u001b[0m\u001b[0;34m.\u001b[0m\u001b[0mrun_cell_magic\u001b[0m\u001b[0;34m(\u001b[0m\u001b[0;34m'sh'\u001b[0m\u001b[0;34m,\u001b[0m \u001b[0;34m''\u001b[0m\u001b[0;34m,\u001b[0m \u001b[0;34m'\\nACCOUNT_ID=$(aws sts get-caller-identity --query Account --output text)\\n# Get the region defined in the current configuration (default to us-west-2 if none defined)\\nREGION=$(aws configure list | grep region | awk \\'{print $2}\\')\\n\\n\\n# create a repository in ECR, and then login to ECR repository\\naws --region ${REGION} ecr create-repository --repository-name smstudio-custom\\naws ecr --region ${REGION} get-login-password | docker login --username AWS \\\\\\n    --password-stdin ${ACCOUNT_ID}.dkr.ecr.${REGION}.amazonaws.com/smstudio-custom\\n\\n# Build the docker image and push to Amazon ECR (modify image tags and name as required)\\n$(aws ecr get-login --region ${REGION} --no-include-email)\\n\\n# docker build . -t smstudio-r -t ${ACCOUNT_ID}.dkr.ecr.${REGION}.amazonaws.com/smstudio-custom:r \\n# docker push ${ACCOUNT_ID}.dkr.ecr.${REGION}.amazonaws.com/smstudio-custom:r\\n    \\n# Using with SageMaker Studio\\n## Create SageMaker Image with the image in ECR (modify image name as required)\\n# aws sagemaker create-image \\\\\\n#     --region ${REGION} \\\\\\n#     --image-name custom-r \\\\\\n#     --role-arn \"arn:aws:iam::367158743199:role/MySagemakerRol\"\\n\\n\\n# aws sagemaker create-image-version \\\\\\n#     --region ${REGION} \\\\\\n#     --image-name custom-r \\\\\\n#     --base-image ${ACCOUNT_ID}.dkr.ecr.${REGION}.amazonaws.com/smstudio-custom:r\\n\\n## Create AppImageConfig for this image (modify AppImageConfigName and \\n## KernelSpecs in app-image-config-input.json as needed)\\n## note that \\'file://\\' is required in the file path\\n# aws sagemaker create-app-image-config \\\\\\n#     --region ${REGION} \\\\\\n#     --cli-input-json file://app-image-config-input.json\\n'\u001b[0m\u001b[0;34m)\u001b[0m\u001b[0;34m\u001b[0m\u001b[0;34m\u001b[0m\u001b[0m\n\u001b[0m",
      "\u001b[0;32m/opt/conda/lib/python3.7/site-packages/IPython/core/interactiveshell.py\u001b[0m in \u001b[0;36mrun_cell_magic\u001b[0;34m(self, magic_name, line, cell)\u001b[0m\n\u001b[1;32m   2360\u001b[0m             \u001b[0;32mwith\u001b[0m \u001b[0mself\u001b[0m\u001b[0;34m.\u001b[0m\u001b[0mbuiltin_trap\u001b[0m\u001b[0;34m:\u001b[0m\u001b[0;34m\u001b[0m\u001b[0;34m\u001b[0m\u001b[0m\n\u001b[1;32m   2361\u001b[0m                 \u001b[0margs\u001b[0m \u001b[0;34m=\u001b[0m \u001b[0;34m(\u001b[0m\u001b[0mmagic_arg_s\u001b[0m\u001b[0;34m,\u001b[0m \u001b[0mcell\u001b[0m\u001b[0;34m)\u001b[0m\u001b[0;34m\u001b[0m\u001b[0;34m\u001b[0m\u001b[0m\n\u001b[0;32m-> 2362\u001b[0;31m                 \u001b[0mresult\u001b[0m \u001b[0;34m=\u001b[0m \u001b[0mfn\u001b[0m\u001b[0;34m(\u001b[0m\u001b[0;34m*\u001b[0m\u001b[0margs\u001b[0m\u001b[0;34m,\u001b[0m \u001b[0;34m**\u001b[0m\u001b[0mkwargs\u001b[0m\u001b[0;34m)\u001b[0m\u001b[0;34m\u001b[0m\u001b[0;34m\u001b[0m\u001b[0m\n\u001b[0m\u001b[1;32m   2363\u001b[0m             \u001b[0;32mreturn\u001b[0m \u001b[0mresult\u001b[0m\u001b[0;34m\u001b[0m\u001b[0;34m\u001b[0m\u001b[0m\n\u001b[1;32m   2364\u001b[0m \u001b[0;34m\u001b[0m\u001b[0m\n",
      "\u001b[0;32m/opt/conda/lib/python3.7/site-packages/IPython/core/magics/script.py\u001b[0m in \u001b[0;36mnamed_script_magic\u001b[0;34m(line, cell)\u001b[0m\n\u001b[1;32m    140\u001b[0m             \u001b[0;32melse\u001b[0m\u001b[0;34m:\u001b[0m\u001b[0;34m\u001b[0m\u001b[0;34m\u001b[0m\u001b[0m\n\u001b[1;32m    141\u001b[0m                 \u001b[0mline\u001b[0m \u001b[0;34m=\u001b[0m \u001b[0mscript\u001b[0m\u001b[0;34m\u001b[0m\u001b[0;34m\u001b[0m\u001b[0m\n\u001b[0;32m--> 142\u001b[0;31m             \u001b[0;32mreturn\u001b[0m \u001b[0mself\u001b[0m\u001b[0;34m.\u001b[0m\u001b[0mshebang\u001b[0m\u001b[0;34m(\u001b[0m\u001b[0mline\u001b[0m\u001b[0;34m,\u001b[0m \u001b[0mcell\u001b[0m\u001b[0;34m)\u001b[0m\u001b[0;34m\u001b[0m\u001b[0;34m\u001b[0m\u001b[0m\n\u001b[0m\u001b[1;32m    143\u001b[0m \u001b[0;34m\u001b[0m\u001b[0m\n\u001b[1;32m    144\u001b[0m         \u001b[0;31m# write a basic docstring:\u001b[0m\u001b[0;34m\u001b[0m\u001b[0;34m\u001b[0m\u001b[0;34m\u001b[0m\u001b[0m\n",
      "\u001b[0;32m</opt/conda/lib/python3.7/site-packages/decorator.py:decorator-gen-110>\u001b[0m in \u001b[0;36mshebang\u001b[0;34m(self, line, cell)\u001b[0m\n",
      "\u001b[0;32m/opt/conda/lib/python3.7/site-packages/IPython/core/magic.py\u001b[0m in \u001b[0;36m<lambda>\u001b[0;34m(f, *a, **k)\u001b[0m\n\u001b[1;32m    185\u001b[0m     \u001b[0;31m# but it's overkill for just that one bit of state.\u001b[0m\u001b[0;34m\u001b[0m\u001b[0;34m\u001b[0m\u001b[0;34m\u001b[0m\u001b[0m\n\u001b[1;32m    186\u001b[0m     \u001b[0;32mdef\u001b[0m \u001b[0mmagic_deco\u001b[0m\u001b[0;34m(\u001b[0m\u001b[0marg\u001b[0m\u001b[0;34m)\u001b[0m\u001b[0;34m:\u001b[0m\u001b[0;34m\u001b[0m\u001b[0;34m\u001b[0m\u001b[0m\n\u001b[0;32m--> 187\u001b[0;31m         \u001b[0mcall\u001b[0m \u001b[0;34m=\u001b[0m \u001b[0;32mlambda\u001b[0m \u001b[0mf\u001b[0m\u001b[0;34m,\u001b[0m \u001b[0;34m*\u001b[0m\u001b[0ma\u001b[0m\u001b[0;34m,\u001b[0m \u001b[0;34m**\u001b[0m\u001b[0mk\u001b[0m\u001b[0;34m:\u001b[0m \u001b[0mf\u001b[0m\u001b[0;34m(\u001b[0m\u001b[0;34m*\u001b[0m\u001b[0ma\u001b[0m\u001b[0;34m,\u001b[0m \u001b[0;34m**\u001b[0m\u001b[0mk\u001b[0m\u001b[0;34m)\u001b[0m\u001b[0;34m\u001b[0m\u001b[0;34m\u001b[0m\u001b[0m\n\u001b[0m\u001b[1;32m    188\u001b[0m \u001b[0;34m\u001b[0m\u001b[0m\n\u001b[1;32m    189\u001b[0m         \u001b[0;32mif\u001b[0m \u001b[0mcallable\u001b[0m\u001b[0;34m(\u001b[0m\u001b[0marg\u001b[0m\u001b[0;34m)\u001b[0m\u001b[0;34m:\u001b[0m\u001b[0;34m\u001b[0m\u001b[0;34m\u001b[0m\u001b[0m\n",
      "\u001b[0;32m/opt/conda/lib/python3.7/site-packages/IPython/core/magics/script.py\u001b[0m in \u001b[0;36mshebang\u001b[0;34m(self, line, cell)\u001b[0m\n\u001b[1;32m    243\u001b[0m             \u001b[0msys\u001b[0m\u001b[0;34m.\u001b[0m\u001b[0mstderr\u001b[0m\u001b[0;34m.\u001b[0m\u001b[0mflush\u001b[0m\u001b[0;34m(\u001b[0m\u001b[0;34m)\u001b[0m\u001b[0;34m\u001b[0m\u001b[0;34m\u001b[0m\u001b[0m\n\u001b[1;32m    244\u001b[0m         \u001b[0;32mif\u001b[0m \u001b[0margs\u001b[0m\u001b[0;34m.\u001b[0m\u001b[0mraise_error\u001b[0m \u001b[0;32mand\u001b[0m \u001b[0mp\u001b[0m\u001b[0;34m.\u001b[0m\u001b[0mreturncode\u001b[0m\u001b[0;34m!=\u001b[0m\u001b[0;36m0\u001b[0m\u001b[0;34m:\u001b[0m\u001b[0;34m\u001b[0m\u001b[0;34m\u001b[0m\u001b[0m\n\u001b[0;32m--> 245\u001b[0;31m             \u001b[0;32mraise\u001b[0m \u001b[0mCalledProcessError\u001b[0m\u001b[0;34m(\u001b[0m\u001b[0mp\u001b[0m\u001b[0;34m.\u001b[0m\u001b[0mreturncode\u001b[0m\u001b[0;34m,\u001b[0m \u001b[0mcell\u001b[0m\u001b[0;34m,\u001b[0m \u001b[0moutput\u001b[0m\u001b[0;34m=\u001b[0m\u001b[0mout\u001b[0m\u001b[0;34m,\u001b[0m \u001b[0mstderr\u001b[0m\u001b[0;34m=\u001b[0m\u001b[0merr\u001b[0m\u001b[0;34m)\u001b[0m\u001b[0;34m\u001b[0m\u001b[0;34m\u001b[0m\u001b[0m\n\u001b[0m\u001b[1;32m    246\u001b[0m \u001b[0;34m\u001b[0m\u001b[0m\n\u001b[1;32m    247\u001b[0m     \u001b[0;32mdef\u001b[0m \u001b[0m_run_script\u001b[0m\u001b[0;34m(\u001b[0m\u001b[0mself\u001b[0m\u001b[0;34m,\u001b[0m \u001b[0mp\u001b[0m\u001b[0;34m,\u001b[0m \u001b[0mcell\u001b[0m\u001b[0;34m,\u001b[0m \u001b[0mto_close\u001b[0m\u001b[0;34m)\u001b[0m\u001b[0;34m:\u001b[0m\u001b[0;34m\u001b[0m\u001b[0;34m\u001b[0m\u001b[0m\n",
      "\u001b[0;31mCalledProcessError\u001b[0m: Command 'b'\\nACCOUNT_ID=$(aws sts get-caller-identity --query Account --output text)\\n# Get the region defined in the current configuration (default to us-west-2 if none defined)\\nREGION=$(aws configure list | grep region | awk \\'{print $2}\\')\\n\\n\\n# create a repository in ECR, and then login to ECR repository\\naws --region ${REGION} ecr create-repository --repository-name smstudio-custom\\naws ecr --region ${REGION} get-login-password | docker login --username AWS \\\\\\n    --password-stdin ${ACCOUNT_ID}.dkr.ecr.${REGION}.amazonaws.com/smstudio-custom\\n\\n# Build the docker image and push to Amazon ECR (modify image tags and name as required)\\n$(aws ecr get-login --region ${REGION} --no-include-email)\\n\\n# docker build . -t smstudio-r -t ${ACCOUNT_ID}.dkr.ecr.${REGION}.amazonaws.com/smstudio-custom:r \\n# docker push ${ACCOUNT_ID}.dkr.ecr.${REGION}.amazonaws.com/smstudio-custom:r\\n    \\n# Using with SageMaker Studio\\n## Create SageMaker Image with the image in ECR (modify image name as required)\\n# aws sagemaker create-image \\\\\\n#     --region ${REGION} \\\\\\n#     --image-name custom-r \\\\\\n#     --role-arn \"arn:aws:iam::367158743199:role/MySagemakerRol\"\\n\\n\\n# aws sagemaker create-image-version \\\\\\n#     --region ${REGION} \\\\\\n#     --image-name custom-r \\\\\\n#     --base-image ${ACCOUNT_ID}.dkr.ecr.${REGION}.amazonaws.com/smstudio-custom:r\\n\\n## Create AppImageConfig for this image (modify AppImageConfigName and \\n## KernelSpecs in app-image-config-input.json as needed)\\n## note that \\'file://\\' is required in the file path\\n# aws sagemaker create-app-image-config \\\\\\n#     --region ${REGION} \\\\\\n#     --cli-input-json file://app-image-config-input.json\\n'' returned non-zero exit status 127."
     ]
    }
   ],
   "source": [
    "%%sh\n",
    "\n",
    "ACCOUNT_ID=$(aws sts get-caller-identity --query Account --output text)\n",
    "# Get the region defined in the current configuration (default to us-west-2 if none defined)\n",
    "REGION=$(aws configure list | grep region | awk '{print $2}')\n",
    "\n",
    "\n",
    "# create a repository in ECR, and then login to ECR repository\n",
    "aws --region ${REGION} ecr create-repository --repository-name smstudio-custom\n",
    "aws ecr --region ${REGION} get-login-password | docker login --username AWS \\\n",
    "    --password-stdin ${ACCOUNT_ID}.dkr.ecr.${REGION}.amazonaws.com/smstudio-custom\n",
    "\n",
    "# Build the docker image and push to Amazon ECR (modify image tags and name as required)\n",
    "$(aws ecr get-login --region ${REGION} --no-include-email)\n",
    "\n",
    "# docker build . -t smstudio-r -t ${ACCOUNT_ID}.dkr.ecr.${REGION}.amazonaws.com/smstudio-custom:r \n",
    "# docker push ${ACCOUNT_ID}.dkr.ecr.${REGION}.amazonaws.com/smstudio-custom:r\n",
    "    \n",
    "# Using with SageMaker Studio\n",
    "## Create SageMaker Image with the image in ECR (modify image name as required)\n",
    "# aws sagemaker create-image \\\n",
    "#     --region ${REGION} \\\n",
    "#     --image-name custom-r \\\n",
    "#     --role-arn \"arn:aws:iam::367158743199:role/MySagemakerRol\"\n",
    "\n",
    "\n",
    "# aws sagemaker create-image-version \\\n",
    "#     --region ${REGION} \\\n",
    "#     --image-name custom-r \\\n",
    "#     --base-image ${ACCOUNT_ID}.dkr.ecr.${REGION}.amazonaws.com/smstudio-custom:r\n",
    "\n",
    "## Create AppImageConfig for this image (modify AppImageConfigName and \n",
    "## KernelSpecs in app-image-config-input.json as needed)\n",
    "## note that 'file://' is required in the file path\n",
    "# aws sagemaker create-app-image-config \\\n",
    "#     --region ${REGION} \\\n",
    "#     --cli-input-json file://app-image-config-input.json"
   ]
  },
  {
   "cell_type": "code",
   "execution_count": null,
   "metadata": {},
   "outputs": [],
   "source": []
  }
 ],
 "metadata": {
  "instance_type": "ml.t3.medium",
  "kernelspec": {
   "display_name": "Python 3 (Data Science)",
   "language": "python",
   "name": "python3__SAGEMAKER_INTERNAL__arn:aws:sagemaker:us-east-2:429704687514:image/datascience-1.0"
  },
  "language_info": {
   "codemirror_mode": {
    "name": "ipython",
    "version": 3
   },
   "file_extension": ".py",
   "mimetype": "text/x-python",
   "name": "python",
   "nbconvert_exporter": "python",
   "pygments_lexer": "ipython3",
   "version": "3.7.10"
  }
 },
 "nbformat": 4,
 "nbformat_minor": 4
}
